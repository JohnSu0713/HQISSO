{
 "cells": [
  {
   "cell_type": "code",
   "execution_count": 8,
   "source": [
    "# Ncore = random.randint(1, 10)\n",
    "Ncore = 10\n",
    "Ntasks = 400\n",
    "Ri_para = 3\n",
    "N = 30\n",
    "popSize = N + 1\n",
    "generation_max = 50\n",
    "Cg = 0.7                # define Cg\n",
    "Cp = 0.9                # define Cp\n",
    "# Cw = 0.9              # define Cw\n",
    "np.set_printoptions(precision=2)\n",
    "np.set_printoptions(suppress=True)  # don't use scientific notation"
   ],
   "outputs": [],
   "metadata": {}
  },
  {
   "cell_type": "code",
   "execution_count": 15,
   "source": [
    "import numpy as np\n",
    "import numpy as np\n",
    "import ClassicalPop\n",
    "import QuantumPop\n",
    "import globalFunc\n",
    "import TaskQueue\n",
    "\n",
    "def sort_task(task_queue, target_col=4):\n",
    "    '''\n",
    "    Initialize task_queue with Ai, Ri, Ci and Di for each real-time task i.\n",
    "    array structure: [index, Ai, Ri, Ci, Di]\n",
    "    array sorted parameter: [index->0, Ai->1, Ri->2, Ci->3, Di->4]\n",
    "    '''\n",
    "    return task_queue[np.argsort(task_queue[:, target_col])]"
   ],
   "outputs": [],
   "metadata": {}
  },
  {
   "cell_type": "markdown",
   "source": [],
   "metadata": {}
  },
  {
   "cell_type": "code",
   "execution_count": 27,
   "source": [
    "np.zeros((3, 5))"
   ],
   "outputs": [
    {
     "output_type": "execute_result",
     "data": {
      "text/plain": [
       "array([[0., 0., 0., 0., 0.],\n",
       "       [0., 0., 0., 0., 0.],\n",
       "       [0., 0., 0., 0., 0.]])"
      ]
     },
     "metadata": {},
     "execution_count": 27
    }
   ],
   "metadata": {}
  },
  {
   "cell_type": "code",
   "execution_count": 83,
   "source": [
    "import math\n",
    "import numpy as np\n",
    "rot = np.empty([2, 2])\n",
    "delta_theta = (1 / 2) * math.pi\n",
    "radius = math.radians(delta_theta)\n",
    "rot[0, 0] = math.cos(delta_theta)\n",
    "rot[0, 1] = -math.sin(delta_theta)\n",
    "rot[1, 0] = math.sin(delta_theta)\n",
    "rot[1, 1] = math.cos(delta_theta)\n",
    "rot"
   ],
   "outputs": [
    {
     "output_type": "execute_result",
     "data": {
      "text/plain": [
       "array([[ 6.123234e-17, -1.000000e+00],\n",
       "       [ 1.000000e+00,  6.123234e-17]])"
      ]
     },
     "metadata": {},
     "execution_count": 83
    }
   ],
   "metadata": {}
  },
  {
   "cell_type": "code",
   "execution_count": 173,
   "source": [
    "a_b = np.array([[1], [0]])\n",
    "ans = a_b\n",
    "print(a_b)\n",
    "print()\n",
    "print(ans)\n",
    "theta = np.radians(45)\n",
    "c, s = np.cos(theta), np.sin(theta)\n",
    "R = np.array(((c, -s), (s, c)))\n",
    "print(R) \n",
    "print(a_b)\n",
    "print()\n",
    "print(R[0, 0])\n",
    "print(a_b[0, 0])\n",
    "print(R[0, 1])\n",
    "print(a_b[1, 0])\n",
    "print(ans)\n",
    "print()\n",
    "\n",
    "print((rot[0, 0] * a_b[0, 0]) + (rot[0, 1] * a_b[1, 0]))\n",
    "print((R[1, 0] * a_b[0, 0] + [1, 1] * a_b[1, 0]))\n",
    "a = (R[0, 0] * a_b[0, 0]) + (R[0, 1] * a_b[1, 0])\n",
    "b = (R[1, 0] * a_b[0, 0] + R[1, 1] * a_b[1, 0])\n",
    "\n",
    "ans = np.array([[a], [b]])\n",
    "ans\n"
   ],
   "outputs": [
    {
     "output_type": "stream",
     "name": "stdout",
     "text": [
      "[[1]\n",
      " [0]]\n",
      "\n",
      "[[1]\n",
      " [0]]\n",
      "[[ 0.70710678 -0.70710678]\n",
      " [ 0.70710678  0.70710678]]\n",
      "[[1]\n",
      " [0]]\n",
      "\n",
      "0.7071067811865476\n",
      "1\n",
      "-0.7071067811865475\n",
      "0\n",
      "[[1]\n",
      " [0]]\n",
      "\n",
      "6.123233995736766e-17\n",
      "0.7071067811865475\n"
     ]
    },
    {
     "output_type": "execute_result",
     "data": {
      "text/plain": [
       "array([[6.123234e-17],\n",
       "       [1.000000e+00]])"
      ]
     },
     "metadata": {},
     "execution_count": 173
    }
   ],
   "metadata": {}
  },
  {
   "cell_type": "code",
   "execution_count": 153,
   "source": [
    "theta = np.radians(45)\n",
    "c, s = np.cos(theta), np.sin(theta)\n",
    "R = np.array(((c, -s), (s, c)))\n",
    "print(R)\n",
    "print(a_b)"
   ],
   "outputs": [
    {
     "output_type": "stream",
     "name": "stdout",
     "text": [
      "[[ 0.70710678 -0.70710678]\n",
      " [ 0.70710678  0.70710678]]\n",
      "[[1]\n",
      " [0]]\n"
     ]
    }
   ],
   "metadata": {}
  },
  {
   "cell_type": "code",
   "execution_count": 157,
   "source": [
    "\n",
    "print(R[0, 0])\n",
    "print(a_b[0, 0])\n",
    "print(R[0, 1])\n",
    "print(a_b[1, 0])\n",
    "\n",
    "print((R[0, 0] * a_b[0, 0]) + (R[0, 1] * a_b[1, 0]))\n",
    "print((R[1, 0] * a_b[0, 0] + R[1, 1] * a_b[1, 0]))\n",
    "\n",
    "ans[0, 0] = (R[0, 0] * a_b[0, 0]) + (R[0, 1] * a_b[1, 0])\n",
    "ans[1, 0] = (R[1, 0] * a_b[0, 0] + R[1, 1] * a_b[1, 0])\n",
    "\n"
   ],
   "outputs": [
    {
     "output_type": "stream",
     "name": "stdout",
     "text": [
      "0.7071067811865476\n",
      "0\n",
      "-0.7071067811865475\n",
      "0\n",
      "0.0\n",
      "0.0\n"
     ]
    }
   ],
   "metadata": {}
  },
  {
   "cell_type": "code",
   "execution_count": 155,
   "source": [
    "ans[0, 0] = (R[0, 0] * a_b[0, 0]) + (R[0, 1] * a_b[1, 0])\n",
    "ans[1, 0] = (R[1, 0] * a_b[0, 0] + R[1, 1] * a_b[1, 0])\n"
   ],
   "outputs": [],
   "metadata": {}
  },
  {
   "cell_type": "code",
   "execution_count": null,
   "source": [],
   "outputs": [],
   "metadata": {}
  },
  {
   "cell_type": "code",
   "execution_count": 196,
   "source": [
    "a = np.sin(-0.01 * math.pi)"
   ],
   "outputs": [],
   "metadata": {}
  },
  {
   "cell_type": "code",
   "execution_count": 197,
   "source": [
    "a"
   ],
   "outputs": [
    {
     "output_type": "execute_result",
     "data": {
      "text/plain": [
       "0.03141075907812829"
      ]
     },
     "metadata": {},
     "execution_count": 197
    }
   ],
   "metadata": {}
  },
  {
   "cell_type": "code",
   "execution_count": null,
   "source": [],
   "outputs": [],
   "metadata": {}
  },
  {
   "cell_type": "code",
   "execution_count": null,
   "source": [],
   "outputs": [],
   "metadata": {}
  },
  {
   "cell_type": "code",
   "execution_count": 33,
   "source": [
    "a = np.array([[1, 2, 3, 4], [1, 2, 3, 4], [1, 2, 3, 4]])\n",
    "print(a.shape[0])"
   ],
   "outputs": [
    {
     "output_type": "stream",
     "name": "stdout",
     "text": [
      "4\n"
     ]
    }
   ],
   "metadata": {}
  },
  {
   "cell_type": "code",
   "execution_count": 8,
   "source": [
    "import math\n",
    "print(math.cos(math.radians(180)))"
   ],
   "outputs": [
    {
     "output_type": "stream",
     "name": "stdout",
     "text": [
      "-1.0\n"
     ]
    }
   ],
   "metadata": {}
  },
  {
   "cell_type": "code",
   "execution_count": 6,
   "source": [
    "import numpy as np\n",
    "np.sin(np.radians(45))"
   ],
   "outputs": [
    {
     "output_type": "execute_result",
     "data": {
      "text/plain": [
       "0.7071067811865475"
      ]
     },
     "metadata": {},
     "execution_count": 6
    }
   ],
   "metadata": {}
  },
  {
   "cell_type": "code",
   "execution_count": 68,
   "source": [
    "\n",
    "qbit = np.array([[np.sin(np.radians(45))], [np.sin(np.radians(45))]])\n",
    "qbit[1, 0]"
   ],
   "outputs": [
    {
     "output_type": "execute_result",
     "data": {
      "text/plain": [
       "0.7071067811865475"
      ]
     },
     "metadata": {},
     "execution_count": 68
    }
   ],
   "metadata": {}
  },
  {
   "cell_type": "code",
   "execution_count": 122,
   "source": [
    "r = np.empty([2, 2])\n",
    "theta = -0.02 * np.pi\n",
    "r[0, 0] = np.cos(theta)\n",
    "r[0, 1] = -np.sin(theta)\n",
    "r[1, 0] = np.sin(theta)\n",
    "r[1, 1] = np.cos(theta)\n",
    "\n",
    "#  [[ 0.99802673 -0.06279052]\n",
    "#  [ 0.06279052  0.99802673]]\n",
    "r"
   ],
   "outputs": [
    {
     "output_type": "execute_result",
     "data": {
      "text/plain": [
       "array([[ 0.99802673,  0.06279052],\n",
       "       [-0.06279052,  0.99802673]])"
      ]
     },
     "metadata": {},
     "execution_count": 122
    }
   ],
   "metadata": {}
  },
  {
   "cell_type": "code",
   "execution_count": 145,
   "source": [
    "a = r[0, 0]*qbit[0, 0] + r[0, 1]*qbit[1, 0]\n",
    "b = r[1, 0]*qbit[0, 0] + r[1, 1]*qbit[1, 0]\n",
    "qbit[0, 0] = a\n",
    "qbit[1, 0] = b"
   ],
   "outputs": [],
   "metadata": {}
  },
  {
   "cell_type": "code",
   "execution_count": 146,
   "source": [
    "qbit"
   ],
   "outputs": [
    {
     "output_type": "execute_result",
     "data": {
      "text/plain": [
       "array([[0.15643447],\n",
       "       [0.98768834]])"
      ]
     },
     "metadata": {},
     "execution_count": 146
    }
   ],
   "metadata": {}
  },
  {
   "cell_type": "code",
   "execution_count": 147,
   "source": [
    "print(a)\n",
    "print(b)"
   ],
   "outputs": [
    {
     "output_type": "stream",
     "name": "stdout",
     "text": [
      "0.15643446504023065\n",
      "0.987688340595137\n"
     ]
    }
   ],
   "metadata": {}
  },
  {
   "cell_type": "code",
   "execution_count": null,
   "source": [],
   "outputs": [],
   "metadata": {}
  },
  {
   "cell_type": "code",
   "execution_count": null,
   "source": [],
   "outputs": [],
   "metadata": {}
  },
  {
   "cell_type": "code",
   "execution_count": null,
   "source": [],
   "outputs": [],
   "metadata": {}
  },
  {
   "cell_type": "code",
   "execution_count": null,
   "source": [],
   "outputs": [],
   "metadata": {}
  }
 ],
 "metadata": {
  "orig_nbformat": 4,
  "language_info": {
   "name": "python",
   "version": "3.6.9",
   "mimetype": "text/x-python",
   "codemirror_mode": {
    "name": "ipython",
    "version": 3
   },
   "pygments_lexer": "ipython3",
   "nbconvert_exporter": "python",
   "file_extension": ".py"
  },
  "kernelspec": {
   "name": "python3",
   "display_name": "Python 3.6.9 64-bit ('J_env': conda)"
  },
  "interpreter": {
   "hash": "180acabce3e65f41f9ee9282200173d31db601153a59f9030689e7a2624e57ad"
  }
 },
 "nbformat": 4,
 "nbformat_minor": 2
}